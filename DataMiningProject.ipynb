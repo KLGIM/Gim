{
  "nbformat": 4,
  "nbformat_minor": 0,
  "metadata": {
    "colab": {
      "name": "DataMiningProject.ipynb",
      "provenance": [],
      "collapsed_sections": []
    },
    "kernelspec": {
      "name": "python3",
      "display_name": "Python 3"
    },
    "language_info": {
      "name": "python"
    }
  },
  "cells": [
    {
      "cell_type": "code",
      "metadata": {
        "id": "gEtmvVjDLrPC"
      },
      "source": [
        "import pandas as pd\n",
        "import numpy as np"
      ],
      "execution_count": 2,
      "outputs": []
    },
    {
      "cell_type": "markdown",
      "metadata": {
        "id": "HG_xqARV3hlX"
      },
      "source": [
        "**Read data**"
      ]
    },
    {
      "cell_type": "code",
      "metadata": {
        "id": "GpVce6tFLrPE",
        "colab": {
          "base_uri": "https://localhost:8080/"
        },
        "outputId": "62df63cd-62e6-46ab-b06e-802c93743175"
      },
      "source": [
        "from google.colab import drive\n",
        "drive.mount('/content/gdrive',force_remount=True)"
      ],
      "execution_count": 3,
      "outputs": [
        {
          "output_type": "stream",
          "name": "stdout",
          "text": [
            "Mounted at /content/gdrive\n"
          ]
        }
      ]
    },
    {
      "cell_type": "code",
      "metadata": {
        "id": "jmXb3q_MnEb4"
      },
      "source": [
        "df = pd.read_csv(\"/content/gdrive/MyDrive/Project.zip (Unzipped Files)/LaundryData.csv\")"
      ],
      "execution_count": 4,
      "outputs": []
    },
    {
      "cell_type": "code",
      "metadata": {
        "colab": {
          "base_uri": "https://localhost:8080/",
          "height": 223
        },
        "id": "fqOK1FmMnl8J",
        "outputId": "7f7c4131-7f11-411a-a3b9-78807384c504"
      },
      "source": [
        "df.head()"
      ],
      "execution_count": 5,
      "outputs": [
        {
          "output_type": "execute_result",
          "data": {
            "text/html": [
              "<div>\n",
              "<style scoped>\n",
              "    .dataframe tbody tr th:only-of-type {\n",
              "        vertical-align: middle;\n",
              "    }\n",
              "\n",
              "    .dataframe tbody tr th {\n",
              "        vertical-align: top;\n",
              "    }\n",
              "\n",
              "    .dataframe thead th {\n",
              "        text-align: right;\n",
              "    }\n",
              "</style>\n",
              "<table border=\"1\" class=\"dataframe\">\n",
              "  <thead>\n",
              "    <tr style=\"text-align: right;\">\n",
              "      <th></th>\n",
              "      <th>No</th>\n",
              "      <th>Date</th>\n",
              "      <th>Time</th>\n",
              "      <th>Race</th>\n",
              "      <th>Gender</th>\n",
              "      <th>Body_Size</th>\n",
              "      <th>Age_Range</th>\n",
              "      <th>With_Kids</th>\n",
              "      <th>Kids_Category</th>\n",
              "      <th>Basket_Size</th>\n",
              "      <th>Basket_colour</th>\n",
              "      <th>Attire</th>\n",
              "      <th>Shirt_Colour</th>\n",
              "      <th>shirt_type</th>\n",
              "      <th>Pants_Colour</th>\n",
              "      <th>pants_type</th>\n",
              "      <th>Wash_Item</th>\n",
              "      <th>Washer_No</th>\n",
              "      <th>Dryer_No</th>\n",
              "      <th>Spectacles</th>\n",
              "    </tr>\n",
              "  </thead>\n",
              "  <tbody>\n",
              "    <tr>\n",
              "      <th>0</th>\n",
              "      <td>1</td>\n",
              "      <td>19/10/2015</td>\n",
              "      <td>20:17:50</td>\n",
              "      <td>malay</td>\n",
              "      <td>male</td>\n",
              "      <td>moderate</td>\n",
              "      <td>28.0</td>\n",
              "      <td>yes</td>\n",
              "      <td>young</td>\n",
              "      <td>big</td>\n",
              "      <td>red</td>\n",
              "      <td>casual</td>\n",
              "      <td>blue</td>\n",
              "      <td>short_sleeve</td>\n",
              "      <td>black</td>\n",
              "      <td>short</td>\n",
              "      <td>clothes</td>\n",
              "      <td>3</td>\n",
              "      <td>10</td>\n",
              "      <td>no</td>\n",
              "    </tr>\n",
              "    <tr>\n",
              "      <th>1</th>\n",
              "      <td>2</td>\n",
              "      <td>19/10/2015</td>\n",
              "      <td>20:28:42</td>\n",
              "      <td>indian</td>\n",
              "      <td>male</td>\n",
              "      <td>thin</td>\n",
              "      <td>32.0</td>\n",
              "      <td>no</td>\n",
              "      <td>no_kids</td>\n",
              "      <td>big</td>\n",
              "      <td>green</td>\n",
              "      <td>casual</td>\n",
              "      <td>white</td>\n",
              "      <td>short_sleeve</td>\n",
              "      <td>blue_jeans</td>\n",
              "      <td>long</td>\n",
              "      <td>clothes</td>\n",
              "      <td>6</td>\n",
              "      <td>9</td>\n",
              "      <td>no</td>\n",
              "    </tr>\n",
              "    <tr>\n",
              "      <th>2</th>\n",
              "      <td>3</td>\n",
              "      <td>19/10/2015</td>\n",
              "      <td>20:58:31</td>\n",
              "      <td>malay</td>\n",
              "      <td>female</td>\n",
              "      <td>moderate</td>\n",
              "      <td>30.0</td>\n",
              "      <td>no</td>\n",
              "      <td>no_kids</td>\n",
              "      <td>big</td>\n",
              "      <td>blue</td>\n",
              "      <td>casual</td>\n",
              "      <td>red</td>\n",
              "      <td>short_sleeve</td>\n",
              "      <td>black</td>\n",
              "      <td>long</td>\n",
              "      <td>clothes</td>\n",
              "      <td>4</td>\n",
              "      <td>10</td>\n",
              "      <td>no</td>\n",
              "    </tr>\n",
              "    <tr>\n",
              "      <th>3</th>\n",
              "      <td>4</td>\n",
              "      <td>19/10/2015</td>\n",
              "      <td>21:31:28</td>\n",
              "      <td>indian</td>\n",
              "      <td>male</td>\n",
              "      <td>thin</td>\n",
              "      <td>51.0</td>\n",
              "      <td>no</td>\n",
              "      <td>no_kids</td>\n",
              "      <td>NaN</td>\n",
              "      <td>black</td>\n",
              "      <td>casual</td>\n",
              "      <td>black</td>\n",
              "      <td>short_sleeve</td>\n",
              "      <td>yellow</td>\n",
              "      <td>short</td>\n",
              "      <td>clothes</td>\n",
              "      <td>5</td>\n",
              "      <td>9</td>\n",
              "      <td>no</td>\n",
              "    </tr>\n",
              "    <tr>\n",
              "      <th>4</th>\n",
              "      <td>5</td>\n",
              "      <td>19/10/2015</td>\n",
              "      <td>21:40:28</td>\n",
              "      <td>indian</td>\n",
              "      <td>male</td>\n",
              "      <td>moderate</td>\n",
              "      <td>34.0</td>\n",
              "      <td>no</td>\n",
              "      <td>no_kids</td>\n",
              "      <td>big</td>\n",
              "      <td>blue</td>\n",
              "      <td>casual</td>\n",
              "      <td>blue</td>\n",
              "      <td>short_sleeve</td>\n",
              "      <td>white</td>\n",
              "      <td>long</td>\n",
              "      <td>clothes</td>\n",
              "      <td>3</td>\n",
              "      <td>9</td>\n",
              "      <td>no</td>\n",
              "    </tr>\n",
              "  </tbody>\n",
              "</table>\n",
              "</div>"
            ],
            "text/plain": [
              "   No        Date      Time    Race  ... Wash_Item Washer_No  Dryer_No Spectacles\n",
              "0   1  19/10/2015  20:17:50   malay  ...   clothes         3        10         no\n",
              "1   2  19/10/2015  20:28:42  indian  ...   clothes         6         9         no\n",
              "2   3  19/10/2015  20:58:31   malay  ...   clothes         4        10         no\n",
              "3   4  19/10/2015  21:31:28  indian  ...   clothes         5         9         no\n",
              "4   5  19/10/2015  21:40:28  indian  ...   clothes         3         9         no\n",
              "\n",
              "[5 rows x 20 columns]"
            ]
          },
          "metadata": {},
          "execution_count": 5
        }
      ]
    },
    {
      "cell_type": "code",
      "metadata": {
        "colab": {
          "base_uri": "https://localhost:8080/"
        },
        "id": "JPIv5Rr9tDry",
        "outputId": "4784099e-fbf2-4709-bb2d-7a0c46f21076"
      },
      "source": [
        "df.info()"
      ],
      "execution_count": 6,
      "outputs": [
        {
          "output_type": "stream",
          "name": "stdout",
          "text": [
            "<class 'pandas.core.frame.DataFrame'>\n",
            "RangeIndex: 807 entries, 0 to 806\n",
            "Data columns (total 20 columns):\n",
            " #   Column         Non-Null Count  Dtype  \n",
            "---  ------         --------------  -----  \n",
            " 0   No             807 non-null    int64  \n",
            " 1   Date           807 non-null    object \n",
            " 2   Time           807 non-null    object \n",
            " 3   Race           797 non-null    object \n",
            " 4   Gender         793 non-null    object \n",
            " 5   Body_Size      790 non-null    object \n",
            " 6   Age_Range      799 non-null    float64\n",
            " 7   With_Kids      794 non-null    object \n",
            " 8   Kids_Category  777 non-null    object \n",
            " 9   Basket_Size    801 non-null    object \n",
            " 10  Basket_colour  798 non-null    object \n",
            " 11  Attire         776 non-null    object \n",
            " 12  Shirt_Colour   798 non-null    object \n",
            " 13  shirt_type     770 non-null    object \n",
            " 14  Pants_Colour   802 non-null    object \n",
            " 15  pants_type     798 non-null    object \n",
            " 16  Wash_Item      784 non-null    object \n",
            " 17  Washer_No      807 non-null    int64  \n",
            " 18  Dryer_No       807 non-null    int64  \n",
            " 19  Spectacles     807 non-null    object \n",
            "dtypes: float64(1), int64(3), object(16)\n",
            "memory usage: 126.2+ KB\n"
          ]
        }
      ]
    },
    {
      "cell_type": "markdown",
      "metadata": {
        "id": "bmpg7POP3zyT"
      },
      "source": [
        "**Missing data**"
      ]
    },
    {
      "cell_type": "code",
      "metadata": {
        "colab": {
          "base_uri": "https://localhost:8080/"
        },
        "id": "9H6TpM-yvcLa",
        "outputId": "349147d9-a819-4963-bfc2-a298426791b0"
      },
      "source": [
        "print(df.isnull().sum()) "
      ],
      "execution_count": 8,
      "outputs": [
        {
          "output_type": "stream",
          "name": "stdout",
          "text": [
            "No                0\n",
            "Date              0\n",
            "Time              0\n",
            "Race             10\n",
            "Gender           14\n",
            "Body_Size        17\n",
            "Age_Range         8\n",
            "With_Kids        13\n",
            "Kids_Category    30\n",
            "Basket_Size       6\n",
            "Basket_colour     9\n",
            "Attire           31\n",
            "Shirt_Colour      9\n",
            "shirt_type       37\n",
            "Pants_Colour      5\n",
            "pants_type        9\n",
            "Wash_Item        23\n",
            "Washer_No         0\n",
            "Dryer_No          0\n",
            "Spectacles        0\n",
            "dtype: int64\n"
          ]
        }
      ]
    },
    {
      "cell_type": "code",
      "metadata": {
        "id": "PJNGh8QG4m0g"
      },
      "source": [
        ""
      ],
      "execution_count": null,
      "outputs": []
    },
    {
      "cell_type": "code",
      "metadata": {
        "colab": {
          "base_uri": "https://localhost:8080/"
        },
        "id": "K8kuD6g5wHdT",
        "outputId": "4627b560-104c-4672-8344-1d99adf67319"
      },
      "source": [
        "print(df.isnull().sum().sum())"
      ],
      "execution_count": 9,
      "outputs": [
        {
          "output_type": "stream",
          "name": "stdout",
          "text": [
            "221\n"
          ]
        }
      ]
    },
    {
      "cell_type": "markdown",
      "metadata": {
        "id": "7HcHKctu4LZh"
      },
      "source": [
        "**Measuring Central Tendency (Mean, median, mode)**\n",
        "\n"
      ]
    },
    {
      "cell_type": "code",
      "metadata": {
        "colab": {
          "base_uri": "https://localhost:8080/",
          "height": 295
        },
        "id": "W5wwUdeG3_0Z",
        "outputId": "9e7c372a-2137-4372-95d6-0374ca4e268f"
      },
      "source": [
        "df.describe()"
      ],
      "execution_count": 37,
      "outputs": [
        {
          "output_type": "execute_result",
          "data": {
            "text/html": [
              "<div>\n",
              "<style scoped>\n",
              "    .dataframe tbody tr th:only-of-type {\n",
              "        vertical-align: middle;\n",
              "    }\n",
              "\n",
              "    .dataframe tbody tr th {\n",
              "        vertical-align: top;\n",
              "    }\n",
              "\n",
              "    .dataframe thead th {\n",
              "        text-align: right;\n",
              "    }\n",
              "</style>\n",
              "<table border=\"1\" class=\"dataframe\">\n",
              "  <thead>\n",
              "    <tr style=\"text-align: right;\">\n",
              "      <th></th>\n",
              "      <th>No</th>\n",
              "      <th>Age_Range</th>\n",
              "      <th>Washer_No</th>\n",
              "      <th>Dryer_No</th>\n",
              "    </tr>\n",
              "  </thead>\n",
              "  <tbody>\n",
              "    <tr>\n",
              "      <th>count</th>\n",
              "      <td>807.000000</td>\n",
              "      <td>799.000000</td>\n",
              "      <td>807.000000</td>\n",
              "      <td>807.000000</td>\n",
              "    </tr>\n",
              "    <tr>\n",
              "      <th>mean</th>\n",
              "      <td>404.000000</td>\n",
              "      <td>42.182728</td>\n",
              "      <td>4.465923</td>\n",
              "      <td>8.418835</td>\n",
              "    </tr>\n",
              "    <tr>\n",
              "      <th>std</th>\n",
              "      <td>233.105126</td>\n",
              "      <td>7.981756</td>\n",
              "      <td>1.152628</td>\n",
              "      <td>1.142694</td>\n",
              "    </tr>\n",
              "    <tr>\n",
              "      <th>min</th>\n",
              "      <td>1.000000</td>\n",
              "      <td>28.000000</td>\n",
              "      <td>3.000000</td>\n",
              "      <td>7.000000</td>\n",
              "    </tr>\n",
              "    <tr>\n",
              "      <th>25%</th>\n",
              "      <td>202.500000</td>\n",
              "      <td>36.000000</td>\n",
              "      <td>3.000000</td>\n",
              "      <td>7.000000</td>\n",
              "    </tr>\n",
              "    <tr>\n",
              "      <th>50%</th>\n",
              "      <td>404.000000</td>\n",
              "      <td>42.000000</td>\n",
              "      <td>4.000000</td>\n",
              "      <td>8.000000</td>\n",
              "    </tr>\n",
              "    <tr>\n",
              "      <th>75%</th>\n",
              "      <td>605.500000</td>\n",
              "      <td>49.000000</td>\n",
              "      <td>6.000000</td>\n",
              "      <td>9.000000</td>\n",
              "    </tr>\n",
              "    <tr>\n",
              "      <th>max</th>\n",
              "      <td>807.000000</td>\n",
              "      <td>55.000000</td>\n",
              "      <td>6.000000</td>\n",
              "      <td>10.000000</td>\n",
              "    </tr>\n",
              "  </tbody>\n",
              "</table>\n",
              "</div>"
            ],
            "text/plain": [
              "               No   Age_Range   Washer_No    Dryer_No\n",
              "count  807.000000  799.000000  807.000000  807.000000\n",
              "mean   404.000000   42.182728    4.465923    8.418835\n",
              "std    233.105126    7.981756    1.152628    1.142694\n",
              "min      1.000000   28.000000    3.000000    7.000000\n",
              "25%    202.500000   36.000000    3.000000    7.000000\n",
              "50%    404.000000   42.000000    4.000000    8.000000\n",
              "75%    605.500000   49.000000    6.000000    9.000000\n",
              "max    807.000000   55.000000    6.000000   10.000000"
            ]
          },
          "metadata": {},
          "execution_count": 37
        }
      ]
    },
    {
      "cell_type": "code",
      "metadata": {
        "colab": {
          "base_uri": "https://localhost:8080/"
        },
        "id": "J7FlquQC4_ob",
        "outputId": "bf855e34-4afd-4edb-b855-1b03aa47bc14"
      },
      "source": [
        "print(\"Mean: \", df.mean())\n",
        "print(\"Median: \", df.median())\n",
        "print(\"Mode: \", df.mode())"
      ],
      "execution_count": 49,
      "outputs": [
        {
          "output_type": "stream",
          "name": "stdout",
          "text": [
            "Mean:  No           404.000000\n",
            "Age_Range     42.182728\n",
            "Washer_No      4.465923\n",
            "Dryer_No       8.418835\n",
            "dtype: float64\n",
            "Median:  No           404.0\n",
            "Age_Range     42.0\n",
            "Washer_No      4.0\n",
            "Dryer_No       8.0\n",
            "dtype: float64\n",
            "Mode:        No        Date     Time    Race  ... Wash_Item Washer_No  Dryer_No Spectacles\n",
            "0      1  29/11/2015  4:03:48  indian  ...   clothes       3.0       7.0         no\n",
            "1      2         NaN      NaN     NaN  ...       NaN       NaN       NaN        NaN\n",
            "2      3         NaN      NaN     NaN  ...       NaN       NaN       NaN        NaN\n",
            "3      4         NaN      NaN     NaN  ...       NaN       NaN       NaN        NaN\n",
            "4      5         NaN      NaN     NaN  ...       NaN       NaN       NaN        NaN\n",
            "..   ...         ...      ...     ...  ...       ...       ...       ...        ...\n",
            "802  803         NaN      NaN     NaN  ...       NaN       NaN       NaN        NaN\n",
            "803  804         NaN      NaN     NaN  ...       NaN       NaN       NaN        NaN\n",
            "804  805         NaN      NaN     NaN  ...       NaN       NaN       NaN        NaN\n",
            "805  806         NaN      NaN     NaN  ...       NaN       NaN       NaN        NaN\n",
            "806  807         NaN      NaN     NaN  ...       NaN       NaN       NaN        NaN\n",
            "\n",
            "[807 rows x 20 columns]\n"
          ]
        }
      ]
    },
    {
      "cell_type": "markdown",
      "metadata": {
        "id": "jOR44DTw-xNE"
      },
      "source": [
        "**Visualizing distribution of data**"
      ]
    },
    {
      "cell_type": "code",
      "metadata": {
        "id": "OBDuZXBgywqe"
      },
      "source": [
        "def plt_cat(data, var):\n",
        "    %matplotlib inline\n",
        "    import matplotlib.pyplot as plt\n",
        "    import seaborn as sns\n",
        "    sns.set(font_scale=1.4)\n",
        "    data[var].value_counts().plot(kind='bar', figsize=(5, 4), rot=0)\n",
        "    print(data[var].value_counts())\n",
        "    print('Missing Value Count: ', data[var].isnull().sum())\n",
        "    miss = data[var].isnull().sum() / len(data)\n",
        "    print('Missing Value Percentage: ', \"{:.2%}\".format(miss))"
      ],
      "execution_count": 34,
      "outputs": []
    },
    {
      "cell_type": "code",
      "metadata": {
        "colab": {
          "base_uri": "https://localhost:8080/",
          "height": 393
        },
        "id": "Dg1NpoaPz85u",
        "outputId": "92da719e-df62-4d72-8635-5389b31e7eb4"
      },
      "source": [
        "plt_cat(df, 'Race')"
      ],
      "execution_count": 35,
      "outputs": [
        {
          "output_type": "stream",
          "name": "stdout",
          "text": [
            "indian        242\n",
            "malay         235\n",
            "chinese       232\n",
            "foreigner      88\n",
            "Name: Race, dtype: int64\n",
            "Missing Value Count:  10\n",
            "Missing Value Percentage:  1.24%\n"
          ]
        },
        {
          "output_type": "display_data",
          "data": {
            "image/png": "[encoded data removed]",
            "text/plain": [
              "<Figure size 360x288 with 1 Axes>"
            ]
          },
          "metadata": {}
        }
      ]
    },
    {
      "cell_type": "code",
      "metadata": {
        "colab": {
          "base_uri": "https://localhost:8080/",
          "height": 357
        },
        "id": "sZQwI2hb3LfF",
        "outputId": "98cfd7df-2159-4982-f3d1-d8ecfaab7229"
      },
      "source": [
        "plt_cat(df, 'Gender')"
      ],
      "execution_count": 36,
      "outputs": [
        {
          "output_type": "stream",
          "name": "stdout",
          "text": [
            "female    400\n",
            "male      393\n",
            "Name: Gender, dtype: int64\n",
            "Missing Value Count:  14\n",
            "Missing Value Percentage:  1.73%\n"
          ]
        },
        {
          "output_type": "display_data",
          "data": {
            "image/png": "[encoded data removed]",
            "text/plain": [
              "<Figure size 360x288 with 1 Axes>"
            ]
          },
          "metadata": {}
        }
      ]
    },
    {
      "cell_type": "code",
      "metadata": {
        "colab": {
          "base_uri": "https://localhost:8080/",
          "height": 374
        },
        "id": "s-dejZg652wG",
        "outputId": "409fef17-020d-42da-8205-a7343767e688"
      },
      "source": [
        "plt_cat(df, 'Body_Size')"
      ],
      "execution_count": 50,
      "outputs": [
        {
          "output_type": "stream",
          "name": "stdout",
          "text": [
            "fat         274\n",
            "moderate    265\n",
            "thin        251\n",
            "Name: Body_Size, dtype: int64\n",
            "Missing Value Count:  17\n",
            "Missing Value Percentage:  2.11%\n"
          ]
        },
        {
          "output_type": "display_data",
          "data": {
            "image/png": "[encoded data removed]",
            "text/plain": [
              "<Figure size 360x288 with 1 Axes>"
            ]
          },
          "metadata": {}
        }
      ]
    },
    {
      "cell_type": "code",
      "metadata": {
        "colab": {
          "base_uri": "https://localhost:8080/",
          "height": 390
        },
        "id": "yM2-_dGC7Llj",
        "outputId": "f37e79d6-fd07-4a0e-827b-f3688999e7c3"
      },
      "source": [
        "plt_cat(df, 'Washer_No')"
      ],
      "execution_count": 52,
      "outputs": [
        {
          "output_type": "stream",
          "name": "stdout",
          "text": [
            "3    228\n",
            "6    207\n",
            "5    190\n",
            "4    182\n",
            "Name: Washer_No, dtype: int64\n",
            "Missing Value Count:  0\n",
            "Missing Value Percentage:  0.00%\n"
          ]
        },
        {
          "output_type": "display_data",
          "data": {
            "image/png": "[encoded data removed]",
            "text/plain": [
              "<Figure size 360x288 with 1 Axes>"
            ]
          },
          "metadata": {}
        }
      ]
    },
    {
      "cell_type": "code",
      "metadata": {
        "colab": {
          "base_uri": "https://localhost:8080/",
          "height": 390
        },
        "id": "9yjQG2qi7SYI",
        "outputId": "8e14506f-64e1-4373-db1d-642a8e825121"
      },
      "source": [
        "plt_cat(df, 'Dryer_No')"
      ],
      "execution_count": 53,
      "outputs": [
        {
          "output_type": "stream",
          "name": "stdout",
          "text": [
            "7     233\n",
            "8     198\n",
            "10    195\n",
            "9     181\n",
            "Name: Dryer_No, dtype: int64\n",
            "Missing Value Count:  0\n",
            "Missing Value Percentage:  0.00%\n"
          ]
        },
        {
          "output_type": "display_data",
          "data": {
            "image/png": "[encoded data removed]",
            "text/plain": [
              "<Figure size 360x288 with 1 Axes>"
            ]
          },
          "metadata": {}
        }
      ]
    },
    {
      "cell_type": "code",
      "metadata": {
        "colab": {
          "base_uri": "https://localhost:8080/",
          "height": 290
        },
        "id": "zOK_Vvqi7iE7",
        "outputId": "7eae66d2-bab6-4ccc-976c-29e73fa2f096"
      },
      "source": [
        "df['Age_Range'].hist()"
      ],
      "execution_count": 63,
      "outputs": [
        {
          "output_type": "execute_result",
          "data": {
            "text/plain": [
              "<matplotlib.axes._subplots.AxesSubplot at 0x7f6592690790>"
            ]
          },
          "metadata": {},
          "execution_count": 63
        },
        {
          "output_type": "display_data",
          "data": {
            "image/png": "[encoded data removed]",
            "text/plain": [
              "<Figure size 432x288 with 1 Axes>"
            ]
          },
          "metadata": {}
        }
      ]
    },
    {
      "cell_type": "markdown",
      "metadata": {
        "id": "ydUsareu9s8m"
      },
      "source": [
        "**Feature Selection**"
      ]
    },
    {
      "cell_type": "code",
      "metadata": {
        "id": "v70YgGau9uOd"
      },
      "source": [
        "import pandas as pd\n",
        "import numpy as np\n",
        "\n",
        "from sklearn.feature_selection import chi2\n",
        "from sklearn.feature_selection import SelectKBest"
      ],
      "execution_count": 105,
      "outputs": []
    },
    {
      "cell_type": "code",
      "metadata": {
        "id": "jCdbdjVAILCx"
      },
      "source": [
        "df = pd.read_csv(\"/content/gdrive/MyDrive/Project.zip (Unzipped Files)/LaundryData.csv\").fillna('99')\n",
        "df['Kids_Category'] = df['Kids_Category'].str.strip()\n",
        "df['Pants_Colour'] = df['Pants_Colour'].str.strip()\n",
        "df = df.drop(columns=['No', 'Age_Range', 'Date', 'Time'])"
      ],
      "execution_count": 120,
      "outputs": []
    },
    {
      "cell_type": "code",
      "metadata": {
        "colab": {
          "base_uri": "https://localhost:8080/"
        },
        "id": "eudDn5U9DQts",
        "outputId": "dd439e3f-63ec-43e1-d290-71876292b658"
      },
      "source": [
        "df.info()"
      ],
      "execution_count": 121,
      "outputs": [
        {
          "output_type": "stream",
          "name": "stdout",
          "text": [
            "<class 'pandas.core.frame.DataFrame'>\n",
            "RangeIndex: 807 entries, 0 to 806\n",
            "Data columns (total 16 columns):\n",
            " #   Column         Non-Null Count  Dtype \n",
            "---  ------         --------------  ----- \n",
            " 0   Race           807 non-null    object\n",
            " 1   Gender         807 non-null    object\n",
            " 2   Body_Size      807 non-null    object\n",
            " 3   With_Kids      807 non-null    object\n",
            " 4   Kids_Category  807 non-null    object\n",
            " 5   Basket_Size    807 non-null    object\n",
            " 6   Basket_colour  807 non-null    object\n",
            " 7   Attire         807 non-null    object\n",
            " 8   Shirt_Colour   807 non-null    object\n",
            " 9   shirt_type     807 non-null    object\n",
            " 10  Pants_Colour   807 non-null    object\n",
            " 11  pants_type     807 non-null    object\n",
            " 12  Wash_Item      807 non-null    object\n",
            " 13  Washer_No      807 non-null    int64 \n",
            " 14  Dryer_No       807 non-null    int64 \n",
            " 15  Spectacles     807 non-null    object\n",
            "dtypes: int64(2), object(14)\n",
            "memory usage: 101.0+ KB\n"
          ]
        }
      ]
    },
    {
      "cell_type": "code",
      "metadata": {
        "id": "8Up2Gk5pHemy"
      },
      "source": [
        "X = df.drop(columns=['Washer_No', 'Dryer_No'])\n",
        "y1 = df['Washer_No']\n",
        "y2 = df['Dryer_No']"
      ],
      "execution_count": 122,
      "outputs": []
    },
    {
      "cell_type": "code",
      "metadata": {
        "colab": {
          "base_uri": "https://localhost:8080/"
        },
        "id": "VO_hhxcAHTxv",
        "outputId": "740f224f-389b-4e3a-f107-1da81d162dba"
      },
      "source": [
        "from sklearn.model_selection import train_test_split\n",
        "X_train, X_test, y_train, y_test = train_test_split(X, y1, test_size=0.3, random_state=1)\n",
        "\n",
        "print('Train', X_train.shape, y_train.shape)\n",
        "print('Test', X_test.shape, y_test.shape)"
      ],
      "execution_count": 123,
      "outputs": [
        {
          "output_type": "stream",
          "name": "stdout",
          "text": [
            "Train (564, 14) (564,)\n",
            "Test (243, 14) (243,)\n"
          ]
        }
      ]
    },
    {
      "cell_type": "code",
      "metadata": {
        "id": "UBk3RVDHFu69"
      },
      "source": [
        "def prepare_inputs(X_train, X_test):\n",
        "\toe = OrdinalEncoder()\n",
        "\toe.fit(X_train)\n",
        "\tX_train_enc = oe.transform(X_train)\n",
        "\tX_test_enc = oe.transform(X_test)\n",
        "\treturn X_train_enc, X_test_enc"
      ],
      "execution_count": 124,
      "outputs": []
    },
    {
      "cell_type": "code",
      "metadata": {
        "id": "FUaNVfkdFoxy"
      },
      "source": [
        "def prepare_targets(y_train, y_test):\n",
        "\tle = LabelEncoder()\n",
        "\tle.fit(y_train)\n",
        "\ty_train_enc = le.transform(y_train)\n",
        "\ty_test_enc = le.transform(y_test)\n",
        "\treturn y_train_enc, y_test_enc"
      ],
      "execution_count": 125,
      "outputs": []
    },
    {
      "cell_type": "code",
      "metadata": {
        "id": "CITlsbVWH1I1"
      },
      "source": [
        "# prepare input data\n",
        "X_train_enc, X_test_enc = prepare_inputs(X_train, X_test)\n",
        "# prepare output data\n",
        "y_train_enc, y_test_enc = prepare_targets(y_train, y_test)"
      ],
      "execution_count": 126,
      "outputs": []
    },
    {
      "cell_type": "code",
      "metadata": {
        "id": "py4_fh-fEeFB"
      },
      "source": [
        "def select_features(X_train, y_train, X_test):\n",
        "    fs = SelectKBest(score_func=chi2, k='all')\n",
        "    fs.fit(X_train, y_train)\n",
        "    X_train_fs = fs.transform(X_train)\n",
        "    X_test_fs = fs.transform(X_test)\n",
        "    return X_train_fs, X_test_fs, fs"
      ],
      "execution_count": 127,
      "outputs": []
    },
    {
      "cell_type": "code",
      "metadata": {
        "id": "_nsWi4yYKalf"
      },
      "source": [
        "X_train_fs, X_test_fs, fs = select_features(X_train_enc, y_train_enc, X_test_enc)"
      ],
      "execution_count": 128,
      "outputs": []
    },
    {
      "cell_type": "code",
      "metadata": {
        "colab": {
          "base_uri": "https://localhost:8080/",
          "height": 508
        },
        "id": "Hg89GMHyKt8x",
        "outputId": "1225404d-b559-4de2-ea68-761bf668f41d"
      },
      "source": [
        " for i in range(len(fs.scores_)):\n",
        "    print('Feature %s: %f' % (X.columns[i], fs.scores_[i]))\n",
        "    \n",
        "pyplot.bar([i for i in range(len(fs.scores_))], fs.scores_)\n",
        "pyplot.show()"
      ],
      "execution_count": 132,
      "outputs": [
        {
          "output_type": "stream",
          "name": "stdout",
          "text": [
            "Feature Race: 0.793086\n",
            "Feature Gender: 0.763357\n",
            "Feature Body_Size: 3.750264\n",
            "Feature With_Kids: 0.357594\n",
            "Feature Kids_Category: 3.636999\n",
            "Feature Basket_Size: 1.729114\n",
            "Feature Basket_colour: 15.019389\n",
            "Feature Attire: 3.481818\n",
            "Feature Shirt_Colour: 2.454884\n",
            "Feature shirt_type: 0.099401\n",
            "Feature Pants_Colour: 54.431802\n",
            "Feature pants_type: 1.774977\n",
            "Feature Wash_Item: 1.020750\n",
            "Feature Spectacles: 5.032126\n"
          ]
        },
        {
          "output_type": "display_data",
          "data": {
            "image/png": "[encoded data removed]",
            "text/plain": [
              "<Figure size 432x288 with 1 Axes>"
            ]
          },
          "metadata": {}
        }
      ]
    },
    {
      "cell_type": "markdown",
      "metadata": {
        "id": "bgGAgditLj-S"
      },
      "source": [
        "**Machine Learning Techniques**\n",
        "\n",
        "Using category input and category output\n",
        "\n",
        "https://machinelearningmastery.com/feature-selection-with-categorical-data/"
      ]
    }
  ]
}